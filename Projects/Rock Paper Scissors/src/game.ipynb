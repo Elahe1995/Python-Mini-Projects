{
 "cells": [
  {
   "cell_type": "code",
   "execution_count": 129,
   "metadata": {},
   "outputs": [],
   "source": [
    "import random\n",
    "\n",
    "class RockPaperScissors:\n",
    "    def __init__(self, name):\n",
    "        self.choices = ['rock', 'paper', 'scissors']\n",
    "        self.player_name = name\n",
    "\n",
    "    def get_player_choice(self):\n",
    "        user_choice = input(f'enter your choice {self.choices}')\n",
    "        if user_choice.lower() in self.choices:\n",
    "            return user_choice\n",
    "        \n",
    "        print(f'Invalid choice, you must select from {self.choices}')\n",
    "        return self.get_player_choice()\n",
    "    \n",
    "    def get_computer_choice(self):\n",
    "        return  random.choice(self.choices)\n",
    "    \n",
    "    def decide_winner(self, user_choice, computer_choice):\n",
    "        if user_choice == computer_choice:\n",
    "            return \"It's a Tie!\"\n",
    "        \n",
    "        win_combinations = [('scissors', 'paper'), ('rock', 'scissors'), ('paper', 'rock')]\n",
    "        for win_com in win_combinations:\n",
    "            if (user_choice == win_com[0]) & (computer_choice == win_com[1]):\n",
    "                return \"Congaratulatons! you won!\"\n",
    "            \n",
    "        return \"Oh no! The computer won!\"\n",
    "    \n",
    "    def play(self):\n",
    "        user_choice = self.get_player_choice()\n",
    "        computer_choice = self.get_computer_choice()\n",
    "        print(f'Computer_choice: {computer_choice}')\n",
    "        print(self.decide_winner(user_choice, computer_choice))\n",
    "\n"
   ]
  },
  {
   "cell_type": "code",
   "execution_count": 127,
   "metadata": {},
   "outputs": [],
   "source": [
    "game = RockPaperScissors('Elahe')"
   ]
  },
  {
   "cell_type": "code",
   "execution_count": 128,
   "metadata": {},
   "outputs": [
    {
     "name": "stdout",
     "output_type": "stream",
     "text": [
      "Computer_choice: scissors\n"
     ]
    },
    {
     "data": {
      "text/plain": [
       "'Congaratulatons! you won!'"
      ]
     },
     "execution_count": 128,
     "metadata": {},
     "output_type": "execute_result"
    }
   ],
   "source": [
    "game.play()"
   ]
  },
  {
   "cell_type": "code",
   "execution_count": 130,
   "metadata": {},
   "outputs": [
    {
     "name": "stdout",
     "output_type": "stream",
     "text": [
      "Computer_choice: rock\n",
      "It's a Tie!\n",
      "Computer_choice: scissors\n",
      "It's a Tie!\n",
      "Computer_choice: paper\n",
      "It's a Tie!\n"
     ]
    }
   ],
   "source": [
    "game = RockPaperScissors('Elahe')\n",
    "\n",
    "\n",
    "while True:\n",
    "    game.play()\n",
    "\n",
    "    continue_game = input(\"Do you want to play again? (enter any key to continue and q/Q to exit!)\")\n",
    "    if continue_game.lower() == 'q':\n",
    "        break"
   ]
  },
  {
   "cell_type": "code",
   "execution_count": null,
   "metadata": {},
   "outputs": [],
   "source": []
  }
 ],
 "metadata": {
  "kernelspec": {
   "display_name": "visual",
   "language": "python",
   "name": "python3"
  },
  "language_info": {
   "codemirror_mode": {
    "name": "ipython",
    "version": 3
   },
   "file_extension": ".py",
   "mimetype": "text/x-python",
   "name": "python",
   "nbconvert_exporter": "python",
   "pygments_lexer": "ipython3",
   "version": "3.12.2"
  }
 },
 "nbformat": 4,
 "nbformat_minor": 2
}
