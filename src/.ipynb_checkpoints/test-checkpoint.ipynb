{
 "cells": [
  {
   "cell_type": "code",
   "execution_count": 68,
   "metadata": {},
   "outputs": [],
   "source": [
    "def generate_word_frequency(file_path, word_len: int = 5, limit: int = 1000):\n",
    "    \"\"\"\n",
    "    read dataset and create a list of top 1000 words with 5 character\n",
    "\n",
    "    Args:\n",
    "        file_path (_type_): _description_\n",
    "        word_len (int, optional): _words with 5 character_. Defaults to 5.\n",
    "        limit (int, optional): _select 1000 words with most frequency_. Defaults to 1000.\n",
    "\n",
    "    Returns:\n",
    "        _type_: _a list of 1000 word that has 5 character_\n",
    "    \"\"\"\n",
    "    words = []\n",
    "    with open(file_path, 'r') as file:\n",
    "        for line in file:\n",
    "            word, freq = line.strip().split(',')\n",
    "            words.append((word, int(freq)))\n",
    "\n",
    "    # filter words base on word with 5 character\n",
    "    words = list(filter(lambda x: len(x[0])==word_len, words))\n",
    "\n",
    "    # sort words data base on words with most frequency\n",
    "    words = sorted(words, key=lambda x: x[1], reverse=True)\n",
    "\n",
    "    # select top 1000 words\n",
    "    words = words[:limit]\n",
    "\n",
    "    # remove frequency of words data\n",
    "    words = [word[0] for word in words]\n",
    "    return words"
   ]
  },
  {
   "cell_type": "code",
   "execution_count": 69,
   "metadata": {},
   "outputs": [],
   "source": [
    "file_path = './Data/unigram_freq.txt'\n",
    "word_len = 5\n",
    "limit = 100000"
   ]
  },
  {
   "cell_type": "code",
   "execution_count": 70,
   "metadata": {},
   "outputs": [],
   "source": [
    "words = generate_word_frequency(file_path, word_len, limit)"
   ]
  },
  {
   "cell_type": "code",
   "execution_count": 71,
   "metadata": {},
   "outputs": [],
   "source": [
    "import random"
   ]
  },
  {
   "cell_type": "code",
   "execution_count": 79,
   "metadata": {},
   "outputs": [
    {
     "data": {
      "text/plain": [
       "'navio'"
      ]
     },
     "execution_count": 79,
     "metadata": {},
     "output_type": "execute_result"
    }
   ],
   "source": [
    "selected_word = random.choice(words)\n",
    "selected_word"
   ]
  },
  {
   "cell_type": "code",
   "execution_count": 87,
   "metadata": {},
   "outputs": [
    {
     "name": "stdout",
     "output_type": "stream",
     "text": [
      "\u001b[7m\u001b[33ma\u001b[0m\n",
      "\u001b[7m\u001b[90mb\u001b[0m\n",
      "\u001b[7m\u001b[33mo\u001b[0m\n",
      "\u001b[7m\u001b[90mu\u001b[0m\n",
      "\u001b[7m\u001b[90mt\u001b[0m\n",
      "\u001b[7m\u001b[90mp\u001b[0m\n",
      "\u001b[7m\u001b[90mr\u001b[0m\n",
      "\u001b[7m\u001b[33mi\u001b[0m\n",
      "\u001b[7m\u001b[33mn\u001b[0m\n",
      "\u001b[7m\u001b[90mt\u001b[0m\n"
     ]
    }
   ],
   "source": [
    "num_try = 6\n",
    "\n",
    "while num_try:\n",
    "    # take user input\n",
    "    guess_word = input(f'Enter a word with {word_len} leter word. (or q to exit)')\n",
    "    if guess_word == 'q':\n",
    "        break\n",
    "    \n",
    "    # check user input length letters\n",
    "    if len(guess_word) != 5:\n",
    "        print(f'Word must have {word_len} letters. You entered {len(guess_word)}')\n",
    "        continue\n",
    "\n",
    "    # check valid word\n",
    "    if guess_word not in words:\n",
    "        print_warning('Word is not valid')\n",
    "        continue\n",
    "\n",
    "    # check valid, invalid position, invalid character\n",
    "    for w_letter, g_letter in zip(selected_word, guess_word):\n",
    "        if w_letter == g_letter:\n",
    "            print_succes(g_letter, end='')\n",
    "        \n",
    "        elif g_letter in selected_word:\n",
    "            print_warning(g_letter, end='')\n",
    "            \n",
    "        else:\n",
    "            print_grey(g_letter, end='')\n",
    "\n",
    "\n",
    "    num_try -= 1"
   ]
  },
  {
   "cell_type": "code",
   "execution_count": 74,
   "metadata": {},
   "outputs": [],
   "source": [
    "from termcolor import colored, cprint"
   ]
  },
  {
   "cell_type": "code",
   "execution_count": 75,
   "metadata": {},
   "outputs": [
    {
     "name": "stdout",
     "output_type": "stream",
     "text": [
      "\u001b[5m\u001b[7m\u001b[31melahe\u001b[0m\n"
     ]
    }
   ],
   "source": [
    "print(colored('elahe', 'red', attrs=[\"reverse\", \"blink\"]))"
   ]
  },
  {
   "cell_type": "code",
   "execution_count": 86,
   "metadata": {},
   "outputs": [],
   "source": [
    "def print_succes(text, end):\n",
    "    print(colored(text, 'green', attrs=['reverse']), end='\\n')\n",
    "\n",
    "def print_error(text, end):\n",
    "    print(colored(text, 'red', attrs=['reverse']), end='\\n')\n",
    "\n",
    "def print_warning(text, end):\n",
    "    print(colored(text, 'yellow', attrs=['reverse']), end='\\n')\n",
    "\n",
    "def print_grey(text, end):\n",
    "    print(colored(text, 'dark_grey', attrs=['reverse']), end='\\n')"
   ]
  },
  {
   "cell_type": "code",
   "execution_count": 66,
   "metadata": {},
   "outputs": [
    {
     "name": "stdout",
     "output_type": "stream",
     "text": [
      "\u001b[7m\u001b[90melahe\u001b[0m\n"
     ]
    }
   ],
   "source": [
    "print_grey('elahe')"
   ]
  },
  {
   "cell_type": "code",
   "execution_count": 83,
   "metadata": {},
   "outputs": [
    {
     "name": "stdout",
     "output_type": "stream",
     "text": [
      "0\t1\t2\t3\t"
     ]
    }
   ],
   "source": [
    "for i in range(4):\n",
    "    print(i, end='\\t')"
   ]
  },
  {
   "cell_type": "code",
   "execution_count": null,
   "metadata": {},
   "outputs": [],
   "source": []
  }
 ],
 "metadata": {
  "kernelspec": {
   "display_name": "visul",
   "language": "python",
   "name": "python3"
  },
  "language_info": {
   "codemirror_mode": {
    "name": "ipython",
    "version": 3
   },
   "file_extension": ".py",
   "mimetype": "text/x-python",
   "name": "python",
   "nbconvert_exporter": "python",
   "pygments_lexer": "ipython3",
   "version": "3.11.7"
  }
 },
 "nbformat": 4,
 "nbformat_minor": 2
}
